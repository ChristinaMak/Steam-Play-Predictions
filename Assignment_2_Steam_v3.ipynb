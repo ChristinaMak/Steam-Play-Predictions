{
 "cells": [
  {
   "cell_type": "code",
   "execution_count": 4,
   "metadata": {
    "collapsed": true
   },
   "outputs": [],
   "source": [
    "import ast\n",
    "import numpy as np\n",
    "import random\n",
    "import sklearn\n",
    "from scipy import stats\n",
    "from collections import defaultdict\n",
    "from sklearn import svm\n",
    "from sklearn.svm import LinearSVC"
   ]
  },
  {
   "cell_type": "code",
   "execution_count": 5,
   "metadata": {},
   "outputs": [
    {
     "name": "stdout",
     "output_type": "stream",
     "text": [
      "Reading data...\n",
      "10258\n",
      "done\n"
     ]
    }
   ],
   "source": [
    "# Parse item data\n",
    "def parseDataItems(fname):\n",
    "    for l in open(fname):\n",
    "        dataList = []\n",
    "        temp = l.split(\"},\")\n",
    "        print len(temp)\n",
    "        for i in range(0, len(temp)):\n",
    "            entry = (temp[i] + \"}\").strip()\n",
    "            entryEval = ast.literal_eval(entry)\n",
    "            dataList.append(entryEval)\n",
    "    return dataList\n",
    "        \n",
    "print \"Reading data...\"\n",
    "dataItems = parseDataItems(\"steam/new_all_items_3.json\")\n",
    "print \"done\""
   ]
  },
  {
   "cell_type": "code",
   "execution_count": 6,
   "metadata": {},
   "outputs": [
    {
     "name": "stdout",
     "output_type": "stream",
     "text": [
      "Reading data...\n",
      "88310\n",
      "done\n"
     ]
    }
   ],
   "source": [
    "# Parse user data\n",
    "def parseDataUsers(fname):\n",
    "    for l in open(fname):\n",
    "        dataList = []\n",
    "        temp = l.split(\"]}, {\")\n",
    "        print len(temp)\n",
    "        for i in range(0, len(temp)):\n",
    "            entry = (\"{\" + temp[i] + \"]}\").strip()\n",
    "            entryEval = ast.literal_eval(entry)\n",
    "            dataList.append(entryEval)\n",
    "    return dataList\n",
    "        \n",
    "print \"Reading data...\"\n",
    "dataUsers = parseDataUsers(\"steam/australia_users_items_2.json\")\n",
    "print \"done\""
   ]
  },
  {
   "cell_type": "code",
   "execution_count": 7,
   "metadata": {},
   "outputs": [],
   "source": [
    "# Training, validation, and test splits\n",
    "length = len(dataUsers)\n",
    "dataUsersTrain = dataUsers[0:53310]\n",
    "dataUsersValidate = dataUsers[53310:70810]\n",
    "dataUsersTest = dataUsers[70810:]"
   ]
  },
  {
   "cell_type": "code",
   "execution_count": 8,
   "metadata": {
    "collapsed": true
   },
   "outputs": [],
   "source": [
    "allItemsList = [item['item_id'] for item in dataItems] \n",
    "allUsersList = [user['user_id'] for user in dataUsers]"
   ]
  },
  {
   "cell_type": "code",
   "execution_count": 23,
   "metadata": {
    "collapsed": true
   },
   "outputs": [],
   "source": [
    "# Dictionary of games' genres\n",
    "gameGenreDict = defaultdict(list)\n",
    "for game in dataItems:\n",
    "    gameGenreDict[game['item_id']] = game['genre']"
   ]
  },
  {
   "cell_type": "code",
   "execution_count": 9,
   "metadata": {
    "collapsed": true
   },
   "outputs": [],
   "source": [
    "# Builds a list of user-game pairs that don't exist in the given dictionary\n",
    "def build_set_neg(size, usersPlayedGamesD):\n",
    "    samples = []\n",
    "    while len(samples) < size:\n",
    "        user = random.choice(allUsersList)\n",
    "        item = random.choice(allItemsList)\n",
    "        pair = (user, item)\n",
    "        if user not in usersPlayedGamesD or (user in usersPlayedGamesD and item not in usersPlayedGamesD[user]):\n",
    "            samples.append(pair)\n",
    "    return samples"
   ]
  },
  {
   "cell_type": "code",
   "execution_count": 10,
   "metadata": {
    "collapsed": true
   },
   "outputs": [],
   "source": [
    "# Get all of the user-game pairs in the training data\n",
    "usersPlayedGamesDictTrain = defaultdict(list)\n",
    "trainPlayed = []\n",
    "for user in dataUsersTrain: \n",
    "    if user.has_key('items'):\n",
    "        for item in user['items']:\n",
    "            if item['playtime_forever'] > 0:\n",
    "                usersPlayedGamesDictTrain[user['user_id']].append(item['item_id'])\n",
    "                trainPlayed.append((user['user_id'], item['item_id']))\n",
    "trainNegative = build_set_neg(len(trainPlayed), usersPlayedGamesDictTrain)\n",
    "train = trainPlayed + trainNegative"
   ]
  },
  {
   "cell_type": "code",
   "execution_count": 40,
   "metadata": {},
   "outputs": [
    {
     "name": "stdout",
     "output_type": "stream",
     "text": [
      "('76561197970982479', '10')\n",
      "5579698\n",
      "5536594\n"
     ]
    }
   ],
   "source": [
    "print train[0]\n",
    "print len(train)\n",
    "print len(set(train))"
   ]
  },
  {
   "cell_type": "code",
   "execution_count": 12,
   "metadata": {
    "collapsed": true
   },
   "outputs": [],
   "source": [
    "# Get all of the user-game pairs in the validation data\n",
    "usersPlayedGamesDictValidate = defaultdict(list)\n",
    "validatePlayed = []\n",
    "for user in dataUsersValidate: \n",
    "    if user.has_key('items'):\n",
    "        for item in user['items']:\n",
    "            if item['playtime_forever'] > 0:\n",
    "                usersPlayedGamesDictValidate[user['user_id']].append(item['item_id'])\n",
    "                validatePlayed.append((user['user_id'], item['item_id']))\n",
    "validateNegative = build_set_neg(len(validatePlayed), usersPlayedGamesDictValidate)\n",
    "validate = validatePlayed + validateNegative"
   ]
  },
  {
   "cell_type": "code",
   "execution_count": 42,
   "metadata": {},
   "outputs": [
    {
     "name": "stdout",
     "output_type": "stream",
     "text": [
      "('76561198048192342', '220')\n",
      "576170\n",
      "576025\n"
     ]
    }
   ],
   "source": [
    "print validate[0]\n",
    "print len(validate)\n",
    "print len(set(validate))"
   ]
  },
  {
   "cell_type": "code",
   "execution_count": 13,
   "metadata": {
    "collapsed": true
   },
   "outputs": [],
   "source": [
    "# Get all of the user-game pairs in the test data\n",
    "usersPlayedGamesDictTest = defaultdict(list)\n",
    "testPlayed = []\n",
    "for user in dataUsersTest: \n",
    "    if user.has_key('items'):\n",
    "        for item in user['items']:\n",
    "            if item['playtime_forever'] > 0:\n",
    "                usersPlayedGamesDictTest[user['user_id']].append(item['item_id'])\n",
    "                testPlayed.append((user['user_id'], item['item_id']))\n",
    "testNegative = build_set_neg(len(testPlayed), usersPlayedGamesDictTest)\n",
    "test = testPlayed + testNegative"
   ]
  },
  {
   "cell_type": "code",
   "execution_count": 60,
   "metadata": {},
   "outputs": [],
   "source": [
    "# Create labels for the pairs of users and games\n",
    "labelsTrain = []\n",
    "for i in range(0, 25000):#len(trainPlayed)):\n",
    "    labelsTrain.append(1)\n",
    "for i in range(0, 50000):#len(trainNegative)):\n",
    "    labelsTrain.append(0)\n",
    "\n",
    "labelsValidate = []\n",
    "for i in range(0, 25000):#len(validatePlayed)):\n",
    "    labelsValidate.append(1)\n",
    "for i in range(0, len(validateNegative)):\n",
    "    labelsValidate.append(0)\n",
    "    \n",
    "labelsTest = []\n",
    "for i in range(0, 5000):#len(testPlayed)):\n",
    "    labelsTest.append(1)\n",
    "for i in range(0, 5000):#len(testNegative)):\n",
    "    labelsTest.append(0)"
   ]
  },
  {
   "cell_type": "code",
   "execution_count": 25,
   "metadata": {
    "collapsed": true
   },
   "outputs": [],
   "source": [
    "# Returns the Jaccard similarity of two lists\n",
    "def jaccard_sim(listA, listB):\n",
    "    A = set(listA)\n",
    "    B = set(listB)\n",
    "    num = A.intersection(B)\n",
    "    denom = A.union(B)\n",
    "    if len(denom) > 0:\n",
    "        return len(num) / float(len(denom))\n",
    "    return 0.0\n",
    "    \n",
    "# Returns the Jaccard similarities between the game and all of the user's played games\n",
    "def feature_jaccard(u, g, usersPlayedGamesDict):\n",
    "    usersPlayedGames = []\n",
    "    sims = []\n",
    "    userGamesGenres = []\n",
    "    itemGenres = []\n",
    "    if g in gameGenreDict:\n",
    "        itemGenres = gameGenreDict[g]\n",
    "    if u in usersPlayedGamesDict:\n",
    "        usersPlayedGames = usersPlayedGamesDict[u]\n",
    "    for game in usersPlayedGames:\n",
    "        if game in gameGenreDict:\n",
    "            userGameGenres = gameGenreDict[game]\n",
    "            sims.append(jaccard_sim(userGameGenres, itemGenres))\n",
    "    return sims"
   ]
  },
  {
   "cell_type": "code",
   "execution_count": 26,
   "metadata": {
    "collapsed": true
   },
   "outputs": [],
   "source": [
    "# Get all the genres the user has played\n",
    "def get_user_genres(user, usersPlayedGamesD):\n",
    "    userPlayedGames = []\n",
    "    userGenres = []\n",
    "    allUserGenres = []\n",
    "    if user in usersPlayedGamesD:\n",
    "        userPlayedGames = usersPlayedGamesD[user]\n",
    "        for gameId in userPlayedGames:\n",
    "            if gameId in allItemsList:\n",
    "                userGenres.append(gameGenreDict[gameId])\n",
    "    for listOfGenres in userGenres:\n",
    "        for g in listOfGenres:\n",
    "            allUserGenres.append(g)\n",
    "    return set(allUserGenres)"
   ]
  },
  {
   "cell_type": "code",
   "execution_count": 38,
   "metadata": {
    "collapsed": true
   },
   "outputs": [],
   "source": [
    "# Create the feature vector\n",
    "def feature(u, g, usersPlayedGamesD):\n",
    "    feat = [1]\n",
    "    userGenres = get_user_genres(u, usersPlayedGamesD)\n",
    "    gameGenres = set()\n",
    "    if g in gameGenreDict:\n",
    "        gameGenres = set(gameGenreDict[g])\n",
    "    commonGenres = userGenres.intersection(gameGenres)\n",
    "    if len(commonGenres) > 0:\n",
    "        feat.append(1)\n",
    "    else:\n",
    "        feat.append(0)\n",
    "    #feat.append(feature_reviews(u,g))\n",
    "    jaccards = feature_jaccard(u,g,usersPlayedGamesD)\n",
    "    if jaccards != []:\n",
    "        max_jaccard = max(jaccards)\n",
    "        avg_jaccard = np.mean(jaccards)\n",
    "        feat.append(max_jaccard)\n",
    "        feat.append(avg_jaccard)\n",
    "    else:\n",
    "        feat.append(0)\n",
    "        feat.append(0)\n",
    "    return feat"
   ]
  },
  {
   "cell_type": "code",
   "execution_count": 44,
   "metadata": {},
   "outputs": [],
   "source": [
    "# SVM to predict whether a user will play a game\n",
    "train = trainPlayed[:5000] + trainNegative[:5000]\n",
    "X_train = [feature(u,g, usersPlayedGamesDictTrain) for (u,g) in train_sub] # change\n",
    "y_train = labelsTrain"
   ]
  },
  {
   "cell_type": "code",
   "execution_count": 57,
   "metadata": {},
   "outputs": [
    {
     "name": "stdout",
     "output_type": "stream",
     "text": [
      "0.01\n",
      "0.9172\n",
      "0.1\n",
      "0.9172\n",
      "1.0\n",
      "0.9172\n",
      "100.0\n",
      "0.9172\n",
      "1000.0\n",
      "0.9172\n"
     ]
    }
   ],
   "source": [
    "# SVM on validation set to determine hyperparameter\n",
    "lams = [0.01, 0.1, 1.0, 100.0, 1000.0]\n",
    "for lam in lams:\n",
    "    clf = LinearSVC(C=lam)\n",
    "    clf.fit(X_train, y_train)\n",
    "    \n",
    "    validate = validatePlayed[:5000] + validateNegative[:5000]\n",
    "    X_validate = [feature(u,g,usersPlayedGamesDictValidate) for (u,g) in validate]\n",
    "    y_validate = labelsValidate\n",
    "    validate_predictions = clf.predict(X_validate)\n",
    "    matchValidate = [(x==y) for x,y in zip(labelsValidate, validate_predictions)]\n",
    "    print lam\n",
    "    print sum(matchValidate) * 1.0/len(matchValidate)"
   ]
  },
  {
   "cell_type": "code",
   "execution_count": null,
   "metadata": {
    "collapsed": true
   },
   "outputs": [],
   "source": [
    "# SVM on training set\n",
    "clf = LinearSVC(C=1.0)\n",
    "clf.fit(X_train, y_train)\n",
    "    \n",
    "train = trainPlayed[:5000] + trainNegative[:5000]\n",
    "X_train = [feature(u,g,usersPlayedGamesDictTrain) for (u,g) in train]\n",
    "y_train = labelsTrain\n",
    "\n",
    "train_predictions = clf.predict(X_train)\n",
    "matchTrain = [(x==y) for x,y in zip(labelsTrain, train_predictions)]\n",
    "print sum(matchTrain) * 1.0/len(matchTrain)"
   ]
  },
  {
   "cell_type": "code",
   "execution_count": 61,
   "metadata": {},
   "outputs": [
    {
     "name": "stdout",
     "output_type": "stream",
     "text": [
      "0.9102\n"
     ]
    }
   ],
   "source": [
    "# SVM on test set\n",
    "clf = LinearSVC(C=1.0)\n",
    "clf.fit(X_train, y_train)\n",
    "    \n",
    "    \n",
    "test = testPlayed[:5000] + testNegative[:5000]\n",
    "X_test = [feature(u,g,usersPlayedGamesDictTest) for (u,g) in test]\n",
    "y_test = labelsTest\n",
    "\n",
    "test_predictions = clf.predict(X_test)\n",
    "matchTest = [(x==y) for x,y in zip(labelsTest, test_predictions)]\n",
    "print sum(matchTest) * 1.0/len(matchTest)"
   ]
  },
  {
   "cell_type": "code",
   "execution_count": null,
   "metadata": {
    "collapsed": true
   },
   "outputs": [],
   "source": []
  }
 ],
 "metadata": {
  "kernelspec": {
   "display_name": "Python 2",
   "language": "python",
   "name": "python2"
  },
  "language_info": {
   "codemirror_mode": {
    "name": "ipython",
    "version": 2
   },
   "file_extension": ".py",
   "mimetype": "text/x-python",
   "name": "python",
   "nbconvert_exporter": "python",
   "pygments_lexer": "ipython2",
   "version": "2.7.13"
  }
 },
 "nbformat": 4,
 "nbformat_minor": 2
}
