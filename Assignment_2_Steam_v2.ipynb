{
 "cells": [
  {
   "cell_type": "code",
   "execution_count": 1,
   "metadata": {
    "collapsed": true
   },
   "outputs": [],
   "source": [
    "import ast\n",
    "import numpy as np\n",
    "import random\n",
    "import sklearn\n",
    "from scipy import stats\n",
    "from collections import defaultdict\n",
    "from sklearn import svm\n",
    "from sklearn.svm import LinearSVC"
   ]
  },
  {
   "cell_type": "code",
   "execution_count": 2,
   "metadata": {},
   "outputs": [
    {
     "name": "stdout",
     "output_type": "stream",
     "text": [
      "Reading data...\n",
      "10258\n",
      "done\n"
     ]
    }
   ],
   "source": [
    "def parseDataItems(fname):\n",
    "    for l in open(fname):\n",
    "        dataList = []\n",
    "        temp = l.split(\"},\")\n",
    "        print len(temp)\n",
    "        for i in range(0, len(temp)):\n",
    "            entry = (temp[i] + \"}\").strip()\n",
    "            entryEval = ast.literal_eval(entry)\n",
    "            dataList.append(entryEval)\n",
    "    return dataList\n",
    "        \n",
    "print \"Reading data...\"\n",
    "dataItems = parseDataItems(\"steam/new_all_items_3.json\")\n",
    "print \"done\""
   ]
  },
  {
   "cell_type": "code",
   "execution_count": 3,
   "metadata": {},
   "outputs": [
    {
     "name": "stdout",
     "output_type": "stream",
     "text": [
      "Reading data...\n",
      "88310\n",
      "done\n"
     ]
    }
   ],
   "source": [
    "def parseDataUsers(fname):\n",
    "    for l in open(fname):\n",
    "        dataList = []\n",
    "        temp = l.split(\"]}, {\")\n",
    "        print len(temp)\n",
    "        for i in range(0, len(temp)):\n",
    "            entry = (\"{\" + temp[i] + \"]}\").strip()\n",
    "            entryEval = ast.literal_eval(entry)\n",
    "            dataList.append(entryEval)\n",
    "    return dataList\n",
    "        \n",
    "print \"Reading data...\"\n",
    "dataUsers = parseDataUsers(\"steam/australia_users_items_2.json\")\n",
    "print \"done\""
   ]
  },
  {
   "cell_type": "code",
   "execution_count": 16,
   "metadata": {},
   "outputs": [
    {
     "name": "stdout",
     "output_type": "stream",
     "text": [
      "Number of free games: 227\n"
     ]
    }
   ],
   "source": [
    "# Number of free games\n",
    "countFreeGames = 0\n",
    "for item in dataItems:\n",
    "    if item.has_key('original_price') and item['original_price'] == \"Free\":\n",
    "        countFreeGames += 1\n",
    "\n",
    "print \"Number of free games: {0}\".format(countFreeGames)"
   ]
  },
  {
   "cell_type": "code",
   "execution_count": 4,
   "metadata": {
    "collapsed": true
   },
   "outputs": [],
   "source": [
    "# Ratios of games played to games purchased\n",
    "playedGamesRatioDict = defaultdict()\n",
    "usersPlayedGamesDict = defaultdict(list)\n",
    "usersNotPlayedGamesDict = defaultdict(list)\n",
    "countPlayedAllGames = 0\n",
    "allGamesPlayedList = []\n",
    "for user in dataUsers:\n",
    "    userPlayedCount = 0\n",
    "    if user.has_key('items'):\n",
    "        for item in user['items']:\n",
    "            if item['playtime_forever'] > 0:\n",
    "                userPlayedCount += 1\n",
    "                usersPlayedGamesDict[user['user_id']].append(item['item_id'])\n",
    "            else:\n",
    "                usersNotPlayedGamesDict[user['user_id']].append(item['item_id'])\n",
    "    if user['items_count'] > 0:\n",
    "        playedGamesRatioDict[user['user_id']] = userPlayedCount/float(user['items_count'])\n",
    "        if playedGamesRatioDict[user['user_id']] == 1.0:\n",
    "            countPlayedAllGames += 1\n",
    "            allGamesPlayedList.append(user['items_count'])\n",
    "    else:\n",
    "        playedGamesRatioDict[user['user_id']] = 0"
   ]
  },
  {
   "cell_type": "code",
   "execution_count": 24,
   "metadata": {},
   "outputs": [
    {
     "data": {
      "text/plain": [
       "0.5472901772481864"
      ]
     },
     "execution_count": 24,
     "metadata": {},
     "output_type": "execute_result"
    }
   ],
   "source": [
    "# Average ratio of games played to games purchased\n",
    "print (np.mean(playedGamesRatioDict.values()))"
   ]
  },
  {
   "cell_type": "code",
   "execution_count": 57,
   "metadata": {},
   "outputs": [
    {
     "name": "stdout",
     "output_type": "stream",
     "text": [
      "58.3536292606\n",
      "Max: 7762\n",
      "3708\n",
      "Min: 0\n",
      "9\n",
      "Median: 26.0\n",
      "Mode: ModeResult(mode=array([0]), count=array([16806]))\n",
      "3304\n",
      "Played all games: 4044\n",
      "4.40306627102\n",
      "57\n"
     ]
    }
   ],
   "source": [
    "itemCounts = [d['items_count'] for d in dataUsers if d.has_key('items_count')] \n",
    "\n",
    "# Average number of games purchased per user\n",
    "print (np.mean(itemCounts))\n",
    "\n",
    "# Max\n",
    "print \"Max: {0}\".format((max(itemCounts)))\n",
    "\n",
    "print itemCounts.index(max(itemCounts))\n",
    "#print dataUsers[3708]\n",
    "\n",
    "# Min\n",
    "print \"Min: {0}\".format((min(itemCounts)))\n",
    "print itemCounts.index(min(itemCounts))\n",
    "#print dataUsers[9]\n",
    "\n",
    "# Median\n",
    "print \"Median: {0}\".format((np.median(itemCounts)))\n",
    "\n",
    "# Mode\n",
    "print \"Mode: {0}\".format(stats.mode(np.array(itemCounts)))\n",
    "\n",
    "# Has one game\n",
    "hasOneGame = [d for d in itemCounts if d == 1]\n",
    "print len(hasOneGame)\n",
    "\n",
    "# Played all games\n",
    "print \"Played all games: {0}\".format((countPlayedAllGames))\n",
    "print (np.mean(allGamesPlayedList))\n",
    "print max(allGamesPlayedList)\n",
    "\n",
    "# Average number of games purchased per user"
   ]
  },
  {
   "cell_type": "code",
   "execution_count": null,
   "metadata": {
    "collapsed": true
   },
   "outputs": [],
   "source": [
    "#playedPairs = []\n",
    "#for user in dataUsers[(len(dataUsers)/2):]:\n",
    "#    # Get all games that user has played\n",
    "#    for i in range(0, len(usersPlayedGamesDict)):\n",
    "#        playedPairs.append((user, usersPlayedGamesDict[i]))"
   ]
  },
  {
   "cell_type": "code",
   "execution_count": 6,
   "metadata": {
    "collapsed": true
   },
   "outputs": [],
   "source": [
    "allItemsList = [item['item_id'] for item in dataItems] \n",
    "allUsersList = [user['user_id'] for user in dataUsers]"
   ]
  },
  {
   "cell_type": "code",
   "execution_count": 16,
   "metadata": {},
   "outputs": [],
   "source": [
    "# Build validation set\n",
    "\n",
    "# Pairs where user played game\n",
    "validationPlayed = []\n",
    "while len(validationPlayed) < 5000:\n",
    "    randUser = random.choice(usersPlayedGamesDict.keys())\n",
    "    randGame = random.choice(usersPlayedGamesDict[randUser])\n",
    "    pair = (randUser, randGame)\n",
    "    if pair not in validationPlayed:\n",
    "        validationPlayed.append(pair)\n",
    "        \n",
    "# Pairs where user purchased game but did not play\n",
    "validationPurchased = []\n",
    "while len(validationPurchased) < 100:\n",
    "    randUser = random.choice(usersNotPlayedGamesDict.keys())\n",
    "    randGame = random.choice(usersNotPlayedGamesDict[randUser])\n",
    "    pair = (randUser, randGame)\n",
    "    if pair not in validationPurchased:\n",
    "        validationPurchased.append(pair)\n",
    "\n",
    "# Pairs where user did not purchase or play\n",
    "validationNegative = []\n",
    "while len(validationNegative) < 5000:\n",
    "    user = random.choice(allUsersList)\n",
    "    item = random.choice(allItemsList)\n",
    "    if (user, item) not in validationPlayed: #and (user, item) not in validationPurchased:\n",
    "        validationNegative.append((user, item))\n",
    "        \n",
    "validation = validationPlayed + validationPurchased"
   ]
  },
  {
   "cell_type": "code",
   "execution_count": 94,
   "metadata": {
    "collapsed": true
   },
   "outputs": [],
   "source": [
    "# Validation set labels\n",
    "def createLabels():\n",
    "    resultsDict = defaultdict()\n",
    "    for (u,g) in validation:\n",
    "        for userEntry in dataUsers:\n",
    "            if u in usersPlayedGamesDict:\n",
    "                if g in usersPlayedGamesDict[u]:\n",
    "                    resultsDict[(u,g)] = 1\n",
    "                else:\n",
    "                    resultsDict[(u,g)] = 0\n",
    "    return resultsDict\n",
    "\n",
    "validation = validationPlayed + validationPurchased\n",
    "resultsDict = createLabels()"
   ]
  },
  {
   "cell_type": "code",
   "execution_count": 24,
   "metadata": {
    "collapsed": true
   },
   "outputs": [],
   "source": [
    "# Dictionary of item's list of reviews\n",
    "reviewsDict = defaultdict()\n",
    "for item in dataItems:\n",
    "    reviewsDict[item['item_id']] = item['reviews']"
   ]
  },
  {
   "cell_type": "code",
   "execution_count": 8,
   "metadata": {
    "collapsed": true
   },
   "outputs": [],
   "source": [
    "# Dictionary of user's items(items represented as dictionary)\n",
    "usersItemsListDict = defaultdict()\n",
    "for user in dataUsers:\n",
    "    usersItemsListDict[user['user_id']] = user['items']"
   ]
  },
  {
   "cell_type": "code",
   "execution_count": 26,
   "metadata": {
    "collapsed": true
   },
   "outputs": [],
   "source": [
    "# Predictions using simple review categories for use in feature array\n",
    "def feature_reviews(u, g):\n",
    "    for userEntry in dataUsers:\n",
    "        if g in reviewsDict:\n",
    "            if \"Very Negative\" in reviewsDict[g] or \"Negative\" in reviewsDict[g]:\n",
    "                return 1\n",
    "    return 0  "
   ]
  },
  {
   "cell_type": "code",
   "execution_count": 48,
   "metadata": {
    "collapsed": true
   },
   "outputs": [],
   "source": [
    "# Predictions using simple review categories\n",
    "predictions = []\n",
    "for (u,g) in validation:\n",
    "    for userEntry in dataUsers:\n",
    "        if g in reviewsDict:\n",
    "            if \"Very Negative\" in reviewsDict[g] or \"Negative\" in reviewsDict[g]:\n",
    "                predictions.append(1)\n",
    "        else:\n",
    "            predictions.append(0)"
   ]
  },
  {
   "cell_type": "code",
   "execution_count": 46,
   "metadata": {
    "collapsed": true
   },
   "outputs": [],
   "source": [
    "match = [(x==y) for x,y in zip(predictions, resultsDict.values())]"
   ]
  },
  {
   "cell_type": "code",
   "execution_count": 47,
   "metadata": {},
   "outputs": [
    {
     "name": "stdout",
     "output_type": "stream",
     "text": [
      "0.639285714286\n"
     ]
    }
   ],
   "source": [
    "print sum(match) * 1.0/len(match)"
   ]
  },
  {
   "cell_type": "code",
   "execution_count": 9,
   "metadata": {
    "collapsed": true
   },
   "outputs": [],
   "source": [
    "# Dictionary of games' genres\n",
    "gameGenreDict = defaultdict(list)\n",
    "for game in dataItems:\n",
    "    gameGenreDict[game['item_id']] = game['genre']"
   ]
  },
  {
   "cell_type": "code",
   "execution_count": 10,
   "metadata": {},
   "outputs": [
    {
     "name": "stdout",
     "output_type": "stream",
     "text": [
      "set(['3D Vision', 'Fantasy', 'Hunting', 'Political', 'Level Editor', 'Rogue-like', 'Turn-Based', 'Gambling', 'Comedy', 'Dynamic Narration', 'Crowdfunded', 'Linear', 'Benchmark', 'Post-apocalyptic', 'Quick-Time Events', 'Dungeon Crawler', 'Online Co-Op', 'Western', 'Lovecraftian', 'First-Person', 'Ninja', 'Robots', 'Adventure', 'Building', 'Magic', 'Games Workshop', 'Great Soundtrack', 'Steampunk', 'Choose Your Own Adventure', 'Fighting', 'Simulation', '2D', 'Realistic', 'Exploration', 'Remake', 'Military', 'Assassin', '4 Player Local', 'Third Person', 'Parody', 'God Game', 'Twin Stick Shooter', 'Pirates', 'Singleplayer', 'Indie', 'Aliens', \"Shoot 'Em Up\", 'Real-Time with Pause', 'Dragons', 'Trading', 'Cyberpunk', 'Gun Customization', 'Bullet Time', 'Education', 'Swordplay', 'Score Attack', 'Open World', 'Underwater', 'Management', 'Arcade', 'Satire', 'Resource Management', 'Sports', 'Romance', 'Spectacle fighter', 'Retro', 'Bullet Hell', 'Real-Time', 'Family Friendly', 'Soundtrack', 'Difficult', 'Action RPG', 'Parkour', 'Relaxing', 'Metroidvania', 'Horror', 'Cinematic', 'Stylized', 'Drama', 'Platformer', 'RTS', 'Point & Click', 'America', 'Cartoon', 'Psychedelic', 'Third-Person Shooter', 'Short', 'City Builder', 'Dystopian', 'Action-Adventure', 'Tower Defense', 'Programming', 'Visual Novel', \"Beat 'em up\", 'Procedural Generation', 'Co-op', 'Anime', 'Historical', 'Wargame', 'Real Time Tactics', 'Loot', 'Free to Play', 'Side Scroller', 'Silent Protagonist', 'Perma Death', 'Mod', 'Team-Based', 'Nudity', 'Detective', 'Class-Based', 'Hex Grid', 'Conspiracy', 'Gothic', 'Narration', 'Time Attack', 'Comic Book', 'Puzzle-Platformer', 'Isometric', 'MOBA', 'Mature', 'Controller', 'Philisophical', 'Arena Shooter', 'Stealth', 'Nonlinear', 'Music', 'Story Rich', 'Cold War', 'Space Sim', 'Racing', 'War', 'JRPG', 'Split Screen', 'e-sports', 'Medieval', 'Fast-Paced', 'Local Co-Op', 'Space', 'Card Game', 'Tanks', 'Cult Classic', 'Inventory Management', 'Female Protagonist', 'Cartoony', 'PvP', 'Crafting', 'Atmospheric', 'Tactical RPG', 'Episodic', 'Science', 'Massively Multiplayer', 'Board Game', 'Asynchronous Multiplayer', 'Character Action Game', 'PvE', 'Zombies', 'Tactical', 'Action', 'Replay Value', 'Based On A Novel', 'Base-Building', 'Blood', 'Star Wars', 'Cute', 'Classic', 'Puzzle', 'Diplomacy', 'Survival Horror', 'Moddable', 'Hand-drawn', 'Co-op Campaign', 'Time Manipulation', 'CRPG', 'Funny', 'Superhero', 'Grand Strategy', 'Mystery', 'Strategy RPG', 'Multiplayer', 'Strategy', '1980s', 'Surreal', 'Turn-Based Tactics', 'Chess', 'Rhythm', 'Dark Humor', 'Dating Sim', 'Turn-Based Combat', 'Memes', 'Warhammer 40K', 'VR', 'Flight', 'Sailing', 'Colorful', 'Alternate History', 'Party-Based RPG', 'Batman', 'Survival', \"1990's\", 'Transhumanism', 'Dark', 'Noir', 'Music-Based Procedural Generation', 'Local Multiplayer', 'Gore', 'RPG', '3D Platformer', 'Economy', 'Multiple Endings', 'Heist', 'Time Travel', 'Destruction', 'Hack and Slash', 'Naval', '4X', 'Psychological Horror', 'Top-Down', 'Shooter', 'Character Customization', 'Dark Fantasy', 'Sandbox', 'Lore-Rich', 'FPS', 'World War I', 'Capitalism', 'Physics', 'Early Access', 'Futuristic', 'Sci-fi', 'World War II', 'Touch-Friendly', 'Illuminati', 'Modern', 'Turn-Based Strategy', 'Competitive', 'Psychological', 'Choices Matter', 'Rogue-lite', 'Walking Simulator', 'Pixel Graphics', 'Crime', 'Politics', 'Kickstarter', 'Casual', 'TrackIR'])\n"
     ]
    }
   ],
   "source": [
    "# Jaccard of user's played genres \n",
    "# Jaccard for each of user's played games (genres)\n",
    "\n",
    "# Get all the genres the user has played\n",
    "def get_user_genres(user):\n",
    "    userPlayedGames = []\n",
    "    userGenres = []\n",
    "    allUserGenres = []\n",
    "    if user in usersPlayedGamesDict:#usersItemsListDict:\n",
    "        userPlayedGames = usersPlayedGamesDict[user]#[g for g in userItemsListDict[user] if ]\n",
    "        for gameId in userPlayedGames:\n",
    "            if gameId in allItemsList:\n",
    "                userGenres.append(gameGenreDict[gameId])\n",
    "    for listOfGenres in userGenres:\n",
    "        for g in listOfGenres:\n",
    "            allUserGenres.append(g)\n",
    "    return set(allUserGenres)\n",
    "            \n",
    "    \n",
    "print get_user_genres('76561197970982479')   \n"
   ]
  },
  {
   "cell_type": "code",
   "execution_count": 50,
   "metadata": {},
   "outputs": [
    {
     "name": "stdout",
     "output_type": "stream",
     "text": [
      "[0, 0, 0, 0, 0, 0, 1, 0, 0, 0, 1, 0, 0, 1, 1, 0, 1, 0, 0, 0, 0, 0, 0, 0, 0, 0, 0, 0, 0, 0, 0, 0, 0, 1, 0, 0, 1, 0, 0, 0, 0, 0, 0, 0, 0, 1, 0, 0, 0, 0, 0, 0, 1, 0, 0, 1, 1, 1, 0, 0, 1, 0, 0, 0, 0, 0, 0, 0, 0, 0, 0, 0, 0, 0, 0, 1, 1, 0, 0, 0, 0, 0, 0, 0, 0, 0, 0, 0, 0, 0, 0, 0, 0, 0, 0, 0, 0, 0, 0, 0, 0, 1, 1, 0, 1, 0, 1, 1, 0, 0, 0, 1, 1, 0, 0, 0, 0, 0, 1, 1, 0, 0, 1, 1, 1, 1, 1, 1, 1, 1, 0, 0, 0, 1, 1, 0, 0, 1, 0, 0, 0, 0, 1, 1, 0, 0, 0, 0, 0, 0, 1, 0, 1, 1, 1, 0, 0, 0, 0, 0, 1, 0, 0, 0, 0, 1, 0, 0, 1, 1, 0, 0, 1, 0, 1, 0, 1, 0, 0, 0, 0, 1, 0, 1, 0, 0, 1, 1, 1, 1, 0, 1, 0, 0, 0, 1, 1, 1, 1, 1, 1, 1, 0, 0, 0, 0, 0, 1, 0, 1, 1, 0, 0, 0, 0, 1, 0, 0, 0, 0, 0, 1, 0, 0, 0, 0, 0, 0, 1, 0, 1, 0, 0, 1, 0, 1, 1, 0, 0, 1, 0, 0, 0, 0, 0, 0, 0, 0, 1, 0, 1, 0, 0, 0, 1, 0, 1, 0, 0, 0, 0, 1, 0, 0, 0, 1, 0, 1, 0, 0, 0, 0, 0, 0, 0, 0, 0, 1, 0, 0, 1, 0, 1, 1, 0, 0, 0, 0, 0, 0, 0, 0, 0, 0, 0, 0, 0, 1, 0, 0]\n"
     ]
    }
   ],
   "source": [
    "predictions = []\n",
    "for (u,g) in validation:\n",
    "    userGenres = get_user_genres(u)\n",
    "    gameGenres = set()\n",
    "    if g in gameGenreDict:\n",
    "        gameGenres = set(gameGenreDict[g])\n",
    "    commonGenres = userGenres.intersection(gameGenres)\n",
    "    if len(commonGenres) > 0:\n",
    "        predictions.append(0)\n",
    "    else:\n",
    "        predictions.append(1)\n",
    "    \n",
    "\n",
    "print predictions"
   ]
  },
  {
   "cell_type": "code",
   "execution_count": 51,
   "metadata": {},
   "outputs": [
    {
     "name": "stdout",
     "output_type": "stream",
     "text": [
      "0.576642335766\n"
     ]
    }
   ],
   "source": [
    "match = [(x==y) for x,y in zip(predictions, resultsDict.values())]\n",
    "print sum(match) * 1.0/len(match)"
   ]
  },
  {
   "cell_type": "code",
   "execution_count": 61,
   "metadata": {},
   "outputs": [],
   "source": [
    "# Returns the Jaccard similarity of two lists\n",
    "def jaccard_sim(listA, listB):\n",
    "    A = set(listA)\n",
    "    B = set(listB)\n",
    "    num = A.intersection(B)\n",
    "    denom = A.union(B)\n",
    "    #print num\n",
    "    #print denom\n",
    "    #print \"j\"\n",
    "    if denom > 0:\n",
    "        return len(num) / float(len(denom))\n",
    "    return 0.0\n",
    "    \n",
    "# Returns the Jaccard similarities between the game and all of the user's played games\n",
    "def feature_jaccard(u, g):\n",
    "    usersPlayedGames = []\n",
    "    sims = []\n",
    "    userGamesGenres = []\n",
    "    itemGenres = []\n",
    "    if g in gameGenreDict:\n",
    "        itemGenres = gameGenreDict[g]\n",
    "    if u in usersPlayedGamesDict:\n",
    "        usersPlayedGames = usersPlayedGamesDict[u]\n",
    "    for game in usersPlayedGames:\n",
    "        if game in gameGenreDict:\n",
    "            userGameGenres = gameGenreDict[game]\n",
    "            #print userGameGenres\n",
    "            sims.append(jaccard_sim(userGameGenres, itemGenres))\n",
    "    return sims"
   ]
  },
  {
   "cell_type": "code",
   "execution_count": 91,
   "metadata": {},
   "outputs": [],
   "source": [
    "# Create the feature vector\n",
    "def feature(u, g):\n",
    "    feat = [1]\n",
    "    userGenres = get_user_genres(u, g)\n",
    "    gameGenres = set()\n",
    "    if g in gameGenreDict:\n",
    "        gameGenres = set(gameGenreDict[g])\n",
    "    commonGenres = userGenres.intersection(gameGenres)\n",
    "    if len(commonGenres) > 0:\n",
    "        feat.append(0)\n",
    "    else:\n",
    "        feat.append(1)\n",
    "    #feat.append(feature_reviews(u,g))\n",
    "    jaccards = feature_jaccard(u,g)\n",
    "    if jaccards != []:\n",
    "        max_jaccard = max(jaccards)\n",
    "        avg_jaccard = np.mean(jaccards)\n",
    "        feat.append(max_jaccard)\n",
    "        feat.append(avg_jaccard)\n",
    "    else:\n",
    "        feat.append(0)\n",
    "        feat.append(0)\n",
    "    return feat"
   ]
  },
  {
   "cell_type": "code",
   "execution_count": 92,
   "metadata": {
    "collapsed": true
   },
   "outputs": [],
   "source": [
    "# Create y\n",
    "def createY(u, g):\n",
    "    result = 0\n",
    "    for user in dataUsers:\n",
    "        if u == user['user_id']:\n",
    "            if u in usersPlayedGamesDict:\n",
    "                if g in usersPlayedGamesDict[u]:\n",
    "                    result = 1\n",
    "            break\n",
    "    return result"
   ]
  },
  {
   "cell_type": "code",
   "execution_count": 95,
   "metadata": {},
   "outputs": [
    {
     "name": "stdout",
     "output_type": "stream",
     "text": [
      "0.970184386034\n"
     ]
    }
   ],
   "source": [
    "# SVM to predict whether a user will play a game\n",
    "# TODO use a training set\n",
    "X = [feature(u,g) for (u,g) in validation]\n",
    "y = [createY(u, g) for (u, g) in validation]\n",
    "\n",
    "clf = LinearSVC(C=1.0)\n",
    "clf.fit(X, y)\n",
    "train_predictions = clf.predict(X)\n",
    "matchTrain = [(x==y) for x,y in zip(resultsDict.values(), train_predictions)]\n",
    "# Accuracy of the predictor\n",
    "print sum(matchTrain) * 1.0/len(matchTrain) # train accuracy"
   ]
  },
  {
   "cell_type": "code",
   "execution_count": null,
   "metadata": {
    "collapsed": true
   },
   "outputs": [],
   "source": []
  }
 ],
 "metadata": {
  "kernelspec": {
   "display_name": "Python 2",
   "language": "python",
   "name": "python2"
  },
  "language_info": {
   "codemirror_mode": {
    "name": "ipython",
    "version": 2
   },
   "file_extension": ".py",
   "mimetype": "text/x-python",
   "name": "python",
   "nbconvert_exporter": "python",
   "pygments_lexer": "ipython2",
   "version": "2.7.13"
  }
 },
 "nbformat": 4,
 "nbformat_minor": 2
}
